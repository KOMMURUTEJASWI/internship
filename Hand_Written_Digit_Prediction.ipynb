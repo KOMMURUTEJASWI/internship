{
  "nbformat": 4,
  "nbformat_minor": 0,
  "metadata": {
    "colab": {
      "provenance": [],
      "authorship_tag": "ABX9TyMVDXwVw+09Tn9M7P78ANo5",
      "include_colab_link": true
    },
    "kernelspec": {
      "name": "python3",
      "display_name": "Python 3"
    },
    "language_info": {
      "name": "python"
    }
  },
  "cells": [
    {
      "cell_type": "markdown",
      "metadata": {
        "id": "view-in-github",
        "colab_type": "text"
      },
      "source": [
        "<a href=\"https://colab.research.google.com/github/KOMMURUTEJASWI/internship/blob/main/Hand_Written_Digit_Prediction.ipynb\" target=\"_parent\"><img src=\"https://colab.research.google.com/assets/colab-badge.svg\" alt=\"Open In Colab\"/></a>"
      ]
    },
    {
      "cell_type": "markdown",
      "source": [
        "Hand Written Digit Prediction"
      ],
      "metadata": {
        "id": "uvG9g2yXcJvW"
      }
    },
    {
      "cell_type": "markdown",
      "source": [
        "Objective\n",
        "\n",
        "The objective of this task is to explore and visualize the digits dataset, which contains 8x8 pixel grayscale images of handwritten digits ranging from 0 to 9. By examining the structure and attributes of the dataset, we aim to gain an initial understanding of its content. Specifically, we will visualize the first four images along with their corresponding labels to better comprehend the data. This exploration will lay the groundwork for subsequent tasks, such as building a machine learning model to accurately classify these handwritten digits based on their pixel representations."
      ],
      "metadata": {
        "id": "VN3hHTN6ctOe"
      }
    },
    {
      "cell_type": "markdown",
      "source": [
        "IMPORT lib"
      ],
      "metadata": {
        "id": "uMsHgeSZeGjg"
      }
    },
    {
      "cell_type": "code",
      "source": [
        "import pandas as pd\n",
        "import numpy as np\n",
        "import matplotlib.pyplot as plt"
      ],
      "metadata": {
        "id": "5s2Fx5wccwIR"
      },
      "execution_count": null,
      "outputs": []
    },
    {
      "cell_type": "markdown",
      "source": [
        "Import data"
      ],
      "metadata": {
        "id": "uzbWsKoHj4zM"
      }
    },
    {
      "cell_type": "code",
      "source": [
        "from sklearn.datasets import load_digits\n"
      ],
      "metadata": {
        "id": "B4rEyI2gj6r3"
      },
      "execution_count": null,
      "outputs": []
    },
    {
      "cell_type": "code",
      "source": [
        "df= load_digits()"
      ],
      "metadata": {
        "id": "tBuodc6jmzSc"
      },
      "execution_count": null,
      "outputs": []
    },
    {
      "cell_type": "code",
      "source": [
        "_,axes= plt.subplots(nrows=1, ncols=4, figsize=(10,3))\n",
        "for ax,image,label in zip(axes, df.images, df.target):\n",
        "  ax.set_axis_off()\n",
        "  ax.imshow(image, cmap= plt.cm.gray_r, interpolation=\"nearest\")\n",
        "  ax.set_title(f\"Training: {label}\")\n",
        "plt.show()"
      ],
      "metadata": {
        "id": "xlzlqrB4m4ru",
        "colab": {
          "base_uri": "https://localhost:8080/",
          "height": 227
        },
        "outputId": "3c596e8e-9486-4f6e-d25b-9517708a302b"
      },
      "execution_count": null,
      "outputs": [
        {
          "output_type": "display_data",
          "data": {
            "text/plain": [
              "<Figure size 1000x300 with 4 Axes>"
            ],
            "image/png": "[encoded data removed]"
          },
          "metadata": {}
        }
      ]
    },
    {
      "cell_type": "markdown",
      "source": [
        "Data Preprocessing"
      ],
      "metadata": {
        "id": "9Uu8HElRpK61"
      }
    },
    {
      "cell_type": "code",
      "source": [
        "df.images.shape"
      ],
      "metadata": {
        "id": "qDOXXmZ6oX_X",
        "colab": {
          "base_uri": "https://localhost:8080/"
        },
        "outputId": "7efeeec0-7417-4d65-9613-8194daaba38c"
      },
      "execution_count": null,
      "outputs": [
        {
          "output_type": "execute_result",
          "data": {
            "text/plain": [
              "(1797, 8, 8)"
            ]
          },
          "metadata": {},
          "execution_count": 9
        }
      ]
    },
    {
      "cell_type": "code",
      "source": [
        "df.images[0]"
      ],
      "metadata": {
        "colab": {
          "base_uri": "https://localhost:8080/"
        },
        "id": "2BT81H4apYRt",
        "outputId": "3cff011c-6650-4b7e-e120-9d5749d9c6f4"
      },
      "execution_count": null,
      "outputs": [
        {
          "output_type": "execute_result",
          "data": {
            "text/plain": [
              "array([[ 0.,  0.,  5., 13.,  9.,  1.,  0.,  0.],\n",
              "       [ 0.,  0., 13., 15., 10., 15.,  5.,  0.],\n",
              "       [ 0.,  3., 15.,  2.,  0., 11.,  8.,  0.],\n",
              "       [ 0.,  4., 12.,  0.,  0.,  8.,  8.,  0.],\n",
              "       [ 0.,  5.,  8.,  0.,  0.,  9.,  8.,  0.],\n",
              "       [ 0.,  4., 11.,  0.,  1., 12.,  7.,  0.],\n",
              "       [ 0.,  2., 14.,  5., 10., 12.,  0.,  0.],\n",
              "       [ 0.,  0.,  6., 13., 10.,  0.,  0.,  0.]])"
            ]
          },
          "metadata": {},
          "execution_count": 11
        }
      ]
    },
    {
      "cell_type": "code",
      "source": [
        "df.images[10]"
      ],
      "metadata": {
        "colab": {
          "base_uri": "https://localhost:8080/"
        },
        "id": "uh8VhEwXpcYh",
        "outputId": "2d5e3c11-57fa-4f74-a390-83fe209ff5ed"
      },
      "execution_count": null,
      "outputs": [
        {
          "output_type": "execute_result",
          "data": {
            "text/plain": [
              "array([[ 0.,  0.,  1.,  9., 15., 11.,  0.,  0.],\n",
              "       [ 0.,  0., 11., 16.,  8., 14.,  6.,  0.],\n",
              "       [ 0.,  2., 16., 10.,  0.,  9.,  9.,  0.],\n",
              "       [ 0.,  1., 16.,  4.,  0.,  8.,  8.,  0.],\n",
              "       [ 0.,  4., 16.,  4.,  0.,  8.,  8.,  0.],\n",
              "       [ 0.,  1., 16.,  5.,  1., 11.,  3.,  0.],\n",
              "       [ 0.,  0., 12., 12., 10., 10.,  0.,  0.],\n",
              "       [ 0.,  0.,  1., 10., 13.,  3.,  0.,  0.]])"
            ]
          },
          "metadata": {},
          "execution_count": 12
        }
      ]
    },
    {
      "cell_type": "code",
      "source": [
        "df.images[0].shape"
      ],
      "metadata": {
        "colab": {
          "base_uri": "https://localhost:8080/"
        },
        "id": "44D6bqD8phX9",
        "outputId": "60415a95-96ac-48a6-9dce-8afc5b92b5d9"
      },
      "execution_count": null,
      "outputs": [
        {
          "output_type": "execute_result",
          "data": {
            "text/plain": [
              "(8, 8)"
            ]
          },
          "metadata": {},
          "execution_count": 13
        }
      ]
    },
    {
      "cell_type": "code",
      "source": [
        "len(df.images)"
      ],
      "metadata": {
        "colab": {
          "base_uri": "https://localhost:8080/"
        },
        "id": "AUMqPfzbppJN",
        "outputId": "1020e254-c6b6-4500-9d81-4b385b87ab6f"
      },
      "execution_count": null,
      "outputs": [
        {
          "output_type": "execute_result",
          "data": {
            "text/plain": [
              "1797"
            ]
          },
          "metadata": {},
          "execution_count": 14
        }
      ]
    },
    {
      "cell_type": "code",
      "source": [
        "n_samples=len(df.images)\n",
        "data=df.images.reshape((n_samples,-1))"
      ],
      "metadata": {
        "id": "tvYdh6g7pvJb"
      },
      "execution_count": null,
      "outputs": []
    },
    {
      "cell_type": "code",
      "source": [
        "data[1]"
      ],
      "metadata": {
        "colab": {
          "base_uri": "https://localhost:8080/"
        },
        "id": "5WfYOnQOqBtu",
        "outputId": "b5cb08d6-8d3a-45f6-efee-9cd0f274e12a"
      },
      "execution_count": null,
      "outputs": [
        {
          "output_type": "execute_result",
          "data": {
            "text/plain": [
              "array([ 0.,  0.,  0., 12., 13.,  5.,  0.,  0.,  0.,  0.,  0., 11., 16.,\n",
              "        9.,  0.,  0.,  0.,  0.,  3., 15., 16.,  6.,  0.,  0.,  0.,  7.,\n",
              "       15., 16., 16.,  2.,  0.,  0.,  0.,  0.,  1., 16., 16.,  3.,  0.,\n",
              "        0.,  0.,  0.,  1., 16., 16.,  6.,  0.,  0.,  0.,  0.,  1., 16.,\n",
              "       16.,  6.,  0.,  0.,  0.,  0.,  0., 11., 16., 10.,  0.,  0.])"
            ]
          },
          "metadata": {},
          "execution_count": 16
        }
      ]
    },
    {
      "cell_type": "code",
      "source": [
        "data[1].shape"
      ],
      "metadata": {
        "colab": {
          "base_uri": "https://localhost:8080/"
        },
        "id": "2F3aGGboqD9p",
        "outputId": "d4ddda46-3ea8-4cc4-a4f9-46feec253751"
      },
      "execution_count": null,
      "outputs": [
        {
          "output_type": "execute_result",
          "data": {
            "text/plain": [
              "(64,)"
            ]
          },
          "metadata": {},
          "execution_count": 17
        }
      ]
    },
    {
      "cell_type": "code",
      "source": [
        "data.shape"
      ],
      "metadata": {
        "colab": {
          "base_uri": "https://localhost:8080/"
        },
        "id": "Vt4LtaXlqIEj",
        "outputId": "daf320b7-32d7-45ae-c0df-eea3577c4305"
      },
      "execution_count": null,
      "outputs": [
        {
          "output_type": "execute_result",
          "data": {
            "text/plain": [
              "(1797, 64)"
            ]
          },
          "metadata": {},
          "execution_count": 18
        }
      ]
    },
    {
      "cell_type": "code",
      "source": [
        "data.min()\n",
        "\n"
      ],
      "metadata": {
        "colab": {
          "base_uri": "https://localhost:8080/"
        },
        "id": "dL2T5czeqKms",
        "outputId": "3ebd2e34-60e4-4641-edbd-cae69a6c9df4"
      },
      "execution_count": null,
      "outputs": [
        {
          "output_type": "execute_result",
          "data": {
            "text/plain": [
              "0.0"
            ]
          },
          "metadata": {},
          "execution_count": 20
        }
      ]
    },
    {
      "cell_type": "code",
      "source": [
        "data.max()\n"
      ],
      "metadata": {
        "colab": {
          "base_uri": "https://localhost:8080/"
        },
        "id": "EEL4dp07qWWg",
        "outputId": "df62a596-390a-4594-dd39-cf9cae3b73f9"
      },
      "execution_count": null,
      "outputs": [
        {
          "output_type": "execute_result",
          "data": {
            "text/plain": [
              "16.0"
            ]
          },
          "metadata": {},
          "execution_count": 21
        }
      ]
    },
    {
      "cell_type": "code",
      "source": [
        "data=data/16"
      ],
      "metadata": {
        "id": "w75pl7gNqaST"
      },
      "execution_count": null,
      "outputs": []
    },
    {
      "cell_type": "code",
      "source": [
        "data.min()"
      ],
      "metadata": {
        "colab": {
          "base_uri": "https://localhost:8080/"
        },
        "id": "lvXS0i0Lqft5",
        "outputId": "be5e9df7-6a52-41ed-e72d-d13d220b24dc"
      },
      "execution_count": null,
      "outputs": [
        {
          "output_type": "execute_result",
          "data": {
            "text/plain": [
              "0.0"
            ]
          },
          "metadata": {},
          "execution_count": 23
        }
      ]
    },
    {
      "cell_type": "code",
      "source": [
        "data.max()"
      ],
      "metadata": {
        "colab": {
          "base_uri": "https://localhost:8080/"
        },
        "id": "Y10Iyuv_qiJZ",
        "outputId": "f98f1c60-4748-4d03-dedc-a4c00a9f1e1e"
      },
      "execution_count": null,
      "outputs": [
        {
          "output_type": "execute_result",
          "data": {
            "text/plain": [
              "1.0"
            ]
          },
          "metadata": {},
          "execution_count": 24
        }
      ]
    },
    {
      "cell_type": "code",
      "source": [
        "data[2]"
      ],
      "metadata": {
        "colab": {
          "base_uri": "https://localhost:8080/"
        },
        "id": "IQN8tstfqjpx",
        "outputId": "f1426b70-d0b0-4d40-a607-1059e3463395"
      },
      "execution_count": null,
      "outputs": [
        {
          "output_type": "execute_result",
          "data": {
            "text/plain": [
              "array([0.    , 0.    , 0.    , 0.25  , 0.9375, 0.75  , 0.    , 0.    ,\n",
              "       0.    , 0.    , 0.1875, 1.    , 0.9375, 0.875 , 0.    , 0.    ,\n",
              "       0.    , 0.    , 0.5   , 0.8125, 0.5   , 1.    , 0.    , 0.    ,\n",
              "       0.    , 0.    , 0.0625, 0.375 , 0.9375, 0.6875, 0.    , 0.    ,\n",
              "       0.    , 0.0625, 0.5   , 0.8125, 0.9375, 0.0625, 0.    , 0.    ,\n",
              "       0.    , 0.5625, 1.    , 1.    , 0.3125, 0.    , 0.    , 0.    ,\n",
              "       0.    , 0.1875, 0.8125, 1.    , 1.    , 0.6875, 0.3125, 0.    ,\n",
              "       0.    , 0.    , 0.    , 0.1875, 0.6875, 1.    , 0.5625, 0.    ])"
            ]
          },
          "metadata": {},
          "execution_count": 25
        }
      ]
    },
    {
      "cell_type": "markdown",
      "source": [
        "Train Test Split"
      ],
      "metadata": {
        "id": "_1o1CNByqrqo"
      }
    },
    {
      "cell_type": "code",
      "source": [
        "from sklearn.model_selection import train_test_split"
      ],
      "metadata": {
        "id": "OQCto6DCqoBL"
      },
      "execution_count": null,
      "outputs": []
    },
    {
      "cell_type": "code",
      "source": [
        "X_train, X_test, y_train, y_test = train_test_split(data,df.target, test_size=0.3)\n"
      ],
      "metadata": {
        "id": "kehVPefVq1c_"
      },
      "execution_count": null,
      "outputs": []
    },
    {
      "cell_type": "code",
      "source": [
        "X_train.shape, X_test.shape, y_train.shape, y_test.shape"
      ],
      "metadata": {
        "colab": {
          "base_uri": "https://localhost:8080/"
        },
        "id": "ywwGLagYrJl7",
        "outputId": "87f65a6f-f5aa-490e-8407-aae4ee37a3eb"
      },
      "execution_count": null,
      "outputs": [
        {
          "output_type": "execute_result",
          "data": {
            "text/plain": [
              "((1257, 64), (540, 64), (1257,), (540,))"
            ]
          },
          "metadata": {},
          "execution_count": 28
        }
      ]
    },
    {
      "cell_type": "code",
      "source": [
        "from sklearn.ensemble import RandomForestClassifier"
      ],
      "metadata": {
        "id": "4rK7oYJArXp_"
      },
      "execution_count": null,
      "outputs": []
    },
    {
      "cell_type": "code",
      "source": [
        "rf = RandomForestClassifier()"
      ],
      "metadata": {
        "id": "UmAIRh29rlHS"
      },
      "execution_count": null,
      "outputs": []
    },
    {
      "cell_type": "code",
      "source": [
        "rf.fit(X_train, y_train)"
      ],
      "metadata": {
        "colab": {
          "base_uri": "https://localhost:8080/",
          "height": 75
        },
        "id": "wtETuFW-rs05",
        "outputId": "9fa47474-7f3e-4c8a-d7fc-820cff1620d6"
      },
      "execution_count": null,
      "outputs": [
        {
          "output_type": "execute_result",
          "data": {
            "text/plain": [
              "RandomForestClassifier()"
            ],
            "text/html": [
              "<style>#sk-container-id-2 {color: black;}#sk-container-id-2 pre{padding: 0;}#sk-container-id-2 div.sk-toggleable {background-color: white;}#sk-container-id-2 label.sk-toggleable__label {cursor: pointer;display: block;width: 100%;margin-bottom: 0;padding: 0.3em;box-sizing: border-box;text-align: center;}#sk-container-id-2 label.sk-toggleable__label-arrow:before {content: \"▸\";float: left;margin-right: 0.25em;color: #696969;}#sk-container-id-2 label.sk-toggleable__label-arrow:hover:before {color: black;}#sk-container-id-2 div.sk-estimator:hover label.sk-toggleable__label-arrow:before {color: black;}#sk-container-id-2 div.sk-toggleable__content {max-height: 0;max-width: 0;overflow: hidden;text-align: left;background-color: #f0f8ff;}#sk-container-id-2 div.sk-toggleable__content pre {margin: 0.2em;color: black;border-radius: 0.25em;background-color: #f0f8ff;}#sk-container-id-2 input.sk-toggleable__control:checked~div.sk-toggleable__content {max-height: 200px;max-width: 100%;overflow: auto;}#sk-container-id-2 input.sk-toggleable__control:checked~label.sk-toggleable__label-arrow:before {content: \"▾\";}#sk-container-id-2 div.sk-estimator input.sk-toggleable__control:checked~label.sk-toggleable__label {background-color: #d4ebff;}#sk-container-id-2 div.sk-label input.sk-toggleable__control:checked~label.sk-toggleable__label {background-color: #d4ebff;}#sk-container-id-2 input.sk-hidden--visually {border: 0;clip: rect(1px 1px 1px 1px);clip: rect(1px, 1px, 1px, 1px);height: 1px;margin: -1px;overflow: hidden;padding: 0;position: absolute;width: 1px;}#sk-container-id-2 div.sk-estimator {font-family: monospace;background-color: #f0f8ff;border: 1px dotted black;border-radius: 0.25em;box-sizing: border-box;margin-bottom: 0.5em;}#sk-container-id-2 div.sk-estimator:hover {background-color: #d4ebff;}#sk-container-id-2 div.sk-parallel-item::after {content: \"\";width: 100%;border-bottom: 1px solid gray;flex-grow: 1;}#sk-container-id-2 div.sk-label:hover label.sk-toggleable__label {background-color: #d4ebff;}#sk-container-id-2 div.sk-serial::before {content: \"\";position: absolute;border-left: 1px solid gray;box-sizing: border-box;top: 0;bottom: 0;left: 50%;z-index: 0;}#sk-container-id-2 div.sk-serial {display: flex;flex-direction: column;align-items: center;background-color: white;padding-right: 0.2em;padding-left: 0.2em;position: relative;}#sk-container-id-2 div.sk-item {position: relative;z-index: 1;}#sk-container-id-2 div.sk-parallel {display: flex;align-items: stretch;justify-content: center;background-color: white;position: relative;}#sk-container-id-2 div.sk-item::before, #sk-container-id-2 div.sk-parallel-item::before {content: \"\";position: absolute;border-left: 1px solid gray;box-sizing: border-box;top: 0;bottom: 0;left: 50%;z-index: -1;}#sk-container-id-2 div.sk-parallel-item {display: flex;flex-direction: column;z-index: 1;position: relative;background-color: white;}#sk-container-id-2 div.sk-parallel-item:first-child::after {align-self: flex-end;width: 50%;}#sk-container-id-2 div.sk-parallel-item:last-child::after {align-self: flex-start;width: 50%;}#sk-container-id-2 div.sk-parallel-item:only-child::after {width: 0;}#sk-container-id-2 div.sk-dashed-wrapped {border: 1px dashed gray;margin: 0 0.4em 0.5em 0.4em;box-sizing: border-box;padding-bottom: 0.4em;background-color: white;}#sk-container-id-2 div.sk-label label {font-family: monospace;font-weight: bold;display: inline-block;line-height: 1.2em;}#sk-container-id-2 div.sk-label-container {text-align: center;}#sk-container-id-2 div.sk-container {/* jupyter's `normalize.less` sets `[hidden] { display: none; }` but bootstrap.min.css set `[hidden] { display: none !important; }` so we also need the `!important` here to be able to override the default hidden behavior on the sphinx rendered scikit-learn.org. See: https://github.com/scikit-learn/scikit-learn/issues/21755 */display: inline-block !important;position: relative;}#sk-container-id-2 div.sk-text-repr-fallback {display: none;}</style><div id=\"sk-container-id-2\" class=\"sk-top-container\"><div class=\"sk-text-repr-fallback\"><pre>RandomForestClassifier()</pre><b>In a Jupyter environment, please rerun this cell to show the HTML representation or trust the notebook. <br />On GitHub, the HTML representation is unable to render, please try loading this page with nbviewer.org.</b></div><div class=\"sk-container\" hidden><div class=\"sk-item\"><div class=\"sk-estimator sk-toggleable\"><input class=\"sk-toggleable__control sk-hidden--visually\" id=\"sk-estimator-id-2\" type=\"checkbox\" checked><label for=\"sk-estimator-id-2\" class=\"sk-toggleable__label sk-toggleable__label-arrow\">RandomForestClassifier</label><div class=\"sk-toggleable__content\"><pre>RandomForestClassifier()</pre></div></div></div></div></div>"
            ]
          },
          "metadata": {},
          "execution_count": 34
        }
      ]
    },
    {
      "cell_type": "code",
      "source": [
        "y_predict= rf.predict(X_test)"
      ],
      "metadata": {
        "id": "rAosaAlCrwdd"
      },
      "execution_count": null,
      "outputs": []
    },
    {
      "cell_type": "code",
      "source": [
        "y_predict"
      ],
      "metadata": {
        "colab": {
          "base_uri": "https://localhost:8080/"
        },
        "id": "D--VFI-yr9QS",
        "outputId": "74694c30-fc1c-4354-9f1c-845867dfb9cd"
      },
      "execution_count": null,
      "outputs": [
        {
          "output_type": "execute_result",
          "data": {
            "text/plain": [
              "array([2, 2, 0, 1, 5, 4, 1, 6, 3, 8, 5, 8, 7, 1, 9, 8, 6, 9, 8, 4, 9, 7,\n",
              "       8, 0, 5, 6, 0, 0, 9, 0, 2, 0, 3, 3, 7, 5, 1, 1, 7, 3, 4, 6, 7, 0,\n",
              "       2, 6, 1, 3, 5, 3, 6, 5, 9, 3, 6, 3, 9, 3, 2, 3, 0, 2, 2, 4, 6, 7,\n",
              "       0, 5, 0, 5, 7, 3, 8, 8, 4, 1, 2, 4, 1, 3, 1, 8, 4, 1, 4, 0, 2, 6,\n",
              "       3, 0, 1, 7, 3, 9, 6, 6, 0, 1, 9, 4, 2, 4, 4, 2, 0, 7, 7, 6, 5, 8,\n",
              "       0, 5, 5, 1, 6, 6, 2, 5, 3, 5, 6, 3, 0, 9, 8, 1, 1, 2, 6, 5, 4, 6,\n",
              "       1, 5, 8, 3, 8, 8, 0, 9, 8, 4, 4, 2, 1, 9, 2, 5, 7, 5, 9, 4, 3, 5,\n",
              "       7, 6, 3, 7, 8, 5, 1, 3, 7, 9, 8, 3, 0, 8, 7, 5, 7, 6, 9, 2, 7, 3,\n",
              "       8, 9, 6, 1, 1, 8, 3, 6, 2, 0, 0, 6, 7, 7, 7, 6, 9, 6, 5, 6, 7, 5,\n",
              "       8, 6, 9, 3, 2, 1, 7, 0, 4, 0, 1, 4, 3, 1, 6, 9, 1, 1, 7, 3, 6, 9,\n",
              "       8, 5, 3, 1, 9, 8, 8, 1, 9, 2, 0, 2, 3, 5, 5, 2, 5, 4, 7, 8, 2, 9,\n",
              "       5, 9, 9, 1, 9, 7, 6, 9, 7, 4, 6, 9, 9, 1, 3, 4, 9, 8, 8, 8, 9, 4,\n",
              "       7, 4, 9, 7, 7, 4, 1, 9, 0, 1, 8, 3, 7, 4, 1, 2, 5, 5, 5, 2, 7, 3,\n",
              "       9, 3, 6, 1, 3, 7, 4, 4, 4, 1, 8, 0, 2, 4, 6, 7, 6, 5, 2, 7, 0, 5,\n",
              "       1, 5, 3, 9, 6, 7, 2, 2, 3, 2, 0, 0, 1, 5, 9, 7, 0, 3, 3, 1, 3, 7,\n",
              "       4, 5, 1, 1, 6, 4, 9, 6, 4, 1, 1, 8, 5, 8, 6, 1, 1, 5, 3, 8, 6, 1,\n",
              "       5, 5, 1, 5, 0, 0, 4, 4, 8, 3, 9, 8, 3, 7, 2, 4, 7, 7, 7, 5, 2, 2,\n",
              "       6, 3, 7, 7, 3, 2, 9, 4, 9, 2, 3, 2, 7, 9, 1, 5, 2, 8, 3, 8, 6, 5,\n",
              "       1, 7, 9, 1, 5, 9, 7, 0, 0, 7, 6, 6, 0, 6, 3, 3, 8, 4, 1, 6, 6, 1,\n",
              "       7, 4, 3, 1, 5, 3, 0, 4, 9, 1, 8, 0, 7, 8, 4, 8, 4, 0, 1, 0, 0, 4,\n",
              "       5, 4, 2, 1, 2, 7, 3, 0, 6, 1, 5, 8, 5, 9, 1, 1, 0, 8, 0, 9, 0, 2,\n",
              "       1, 5, 8, 5, 6, 8, 8, 8, 3, 7, 0, 9, 8, 9, 0, 5, 3, 4, 5, 5, 4, 4,\n",
              "       3, 2, 6, 1, 6, 5, 8, 4, 3, 9, 8, 2, 2, 9, 7, 5, 2, 1, 3, 9, 4, 7,\n",
              "       2, 6, 3, 1, 2, 9, 1, 3, 4, 1, 6, 5, 7, 5, 3, 2, 8, 1, 0, 5, 8, 9,\n",
              "       6, 7, 7, 9, 4, 9, 9, 3, 5, 0, 2, 9])"
            ]
          },
          "metadata": {},
          "execution_count": 36
        }
      ]
    },
    {
      "cell_type": "code",
      "source": [
        "from sklearn.metrics import confusion_matrix, classification_report"
      ],
      "metadata": {
        "id": "eJLdVsBzsJB_"
      },
      "execution_count": null,
      "outputs": []
    },
    {
      "cell_type": "code",
      "source": [
        "confusion_matrix(y_test,y_predict)"
      ],
      "metadata": {
        "colab": {
          "base_uri": "https://localhost:8080/"
        },
        "id": "O4ubjFHBso5I",
        "outputId": "758b3e19-ac5b-4ef5-90bb-ff864fba2d36"
      },
      "execution_count": null,
      "outputs": [
        {
          "output_type": "execute_result",
          "data": {
            "text/plain": [
              "array([[47,  0,  0,  0,  1,  0,  0,  0,  0,  0],\n",
              "       [ 0, 61,  0,  0,  0,  0,  0,  0,  0,  0],\n",
              "       [ 0,  0, 47,  0,  0,  0,  0,  0,  0,  0],\n",
              "       [ 0,  0,  0, 58,  0,  0,  0,  1,  2,  0],\n",
              "       [ 0,  0,  0,  0, 48,  0,  0,  0,  0,  0],\n",
              "       [ 0,  0,  0,  0,  0, 57,  1,  0,  0,  0],\n",
              "       [ 0,  0,  0,  0,  0,  0, 51,  0,  1,  0],\n",
              "       [ 0,  0,  0,  0,  0,  0,  0, 54,  0,  1],\n",
              "       [ 0,  3,  0,  0,  0,  2,  0,  1, 48,  1],\n",
              "       [ 0,  0,  0,  1,  0,  0,  0,  0,  0, 54]])"
            ]
          },
          "metadata": {},
          "execution_count": 38
        }
      ]
    },
    {
      "cell_type": "code",
      "source": [
        "print(classification_report(y_test,y_predict))"
      ],
      "metadata": {
        "colab": {
          "base_uri": "https://localhost:8080/"
        },
        "id": "OcCQYc4Lswwq",
        "outputId": "01465ba9-c118-46f8-a709-a536c4cbd5df"
      },
      "execution_count": null,
      "outputs": [
        {
          "output_type": "stream",
          "name": "stdout",
          "text": [
            "              precision    recall  f1-score   support\n",
            "\n",
            "           0       1.00      0.98      0.99        48\n",
            "           1       0.95      1.00      0.98        61\n",
            "           2       1.00      1.00      1.00        47\n",
            "           3       0.98      0.95      0.97        61\n",
            "           4       0.98      1.00      0.99        48\n",
            "           5       0.97      0.98      0.97        58\n",
            "           6       0.98      0.98      0.98        52\n",
            "           7       0.96      0.98      0.97        55\n",
            "           8       0.94      0.87      0.91        55\n",
            "           9       0.96      0.98      0.97        55\n",
            "\n",
            "    accuracy                           0.97       540\n",
            "   macro avg       0.97      0.97      0.97       540\n",
            "weighted avg       0.97      0.97      0.97       540\n",
            "\n"
          ]
        }
      ]
    },
    {
      "cell_type": "markdown",
      "source": [
        "Explaination\n",
        "\n",
        "This project demonstrates a complete machine learning workflow, from data loading to model evaluation, using the digits dataset. The digits dataset consists of 8x8 pixel images of handwritten digits (0-9), which are used to train a machine learning model to recognize and classify these digits.\n",
        "\n",
        "1. Importing Libraries\n",
        "Essential Python libraries like pandas, numpy, matplotlib, and scikit-learn are imported. These libraries provide the tools needed for data manipulation, visualization, and model building.\n",
        "2. Loading the Dataset\n",
        "The digits dataset is loaded using load_digits() from scikit-learn. This dataset contains images of digits along with their corresponding labels, which indicate the digit each image represents.\n",
        "3. Data Visualization\n",
        "A small sample of the dataset (four images) is visualized to provide an initial understanding of what the data looks like. This helps in grasping the nature of the problem—digit recognition.\n",
        "4. Data Exploration\n",
        "The dataset's dimensions and the structure of the image data are explored. The images, originally in a 3D array format, are reshaped into a 2D format to prepare them for model training. This reshaping is necessary because most machine learning algorithms expect the input data to be in a flat, 2D array format.\n",
        "5. Data Preprocessing\n",
        "The image data is normalized by scaling the pixel values between 0 and 1. Normalization ensures that the model trains efficiently and converges faster by reducing the range of the data.\n",
        "6. Splitting the Data\n",
        "The dataset is split into training and testing sets using train_test_split(). This split is crucial for evaluating the model's performance on unseen data, which simulates how the model would perform in real-world scenarios.\n",
        "7. Modeling\n",
        "A Random Forest classifier, a powerful ensemble learning method, is chosen for the task. The model is trained on the training data, where it learns to distinguish between different digits based on their pixel patterns.\n",
        "8. Model Evaluation\n",
        "The trained model is used to predict the labels of the test data. The predictions are compared with the actual labels to assess the model's accuracy. A confusion matrix is generated, showing where the model's predictions were correct and where it made mistakes. Additionally, a classification report is printed, providing metrics like precision, recall, and F1-score for each digit class."
      ],
      "metadata": {
        "id": "tsxMokyrtDtt"
      }
    }
  ]
}